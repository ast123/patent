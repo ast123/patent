{
 "cells": [
  {
   "cell_type": "code",
   "execution_count": 3,
   "metadata": {},
   "outputs": [],
   "source": [
    "import dgl"
   ]
  },
  {
   "cell_type": "code",
   "execution_count": 4,
   "metadata": {},
   "outputs": [],
   "source": [
    "g = dgl.DGLGraph()"
   ]
  },
  {
   "cell_type": "code",
   "execution_count": 13,
   "metadata": {},
   "outputs": [],
   "source": [
    "??g.nodes"
   ]
  },
  {
   "cell_type": "code",
   "execution_count": 15,
   "metadata": {},
   "outputs": [],
   "source": [
    "??dgl.data.citation_graph"
   ]
  },
  {
   "cell_type": "code",
   "execution_count": 17,
   "metadata": {},
   "outputs": [
    {
     "data": {
      "text/plain": [
       "'0.1.3'"
      ]
     },
     "execution_count": 17,
     "metadata": {},
     "output_type": "execute_result"
    }
   ],
   "source": [
    "dgl.__version__"
   ]
  },
  {
   "cell_type": "code",
   "execution_count": 18,
   "metadata": {},
   "outputs": [
    {
     "name": "stdout",
     "output_type": "stream",
     "text": [
      "/media/backup/segun\r\n"
     ]
    }
   ],
   "source": [
    "!pwd"
   ]
  },
  {
   "cell_type": "code",
   "execution_count": 19,
   "metadata": {},
   "outputs": [],
   "source": [
    "import networkx as nx"
   ]
  },
  {
   "cell_type": "code",
   "execution_count": 118,
   "metadata": {},
   "outputs": [],
   "source": [
    "fh=open(\"patent_gr/pg1594\", 'rb')\n",
    "G=nx.read_edgelist(fh)\n",
    "fh.close()\n"
   ]
  },
  {
   "cell_type": "code",
   "execution_count": 84,
   "metadata": {},
   "outputs": [],
   "source": [
    "G = G.to_directed()"
   ]
  },
  {
   "cell_type": "code",
   "execution_count": 78,
   "metadata": {},
   "outputs": [],
   "source": [
    "u, v = zip(*H.edges)"
   ]
  },
  {
   "cell_type": "code",
   "execution_count": 57,
   "metadata": {},
   "outputs": [
    {
     "data": {
      "text/plain": [
       "(1337, 1337)"
      ]
     },
     "execution_count": 57,
     "metadata": {},
     "output_type": "execute_result"
    }
   ],
   "source": [
    "len(u), len(v)"
   ]
  },
  {
   "cell_type": "code",
   "execution_count": 66,
   "metadata": {},
   "outputs": [
    {
     "data": {
      "text/plain": [
       "14648460"
      ]
     },
     "execution_count": 66,
     "metadata": {},
     "output_type": "execute_result"
    }
   ],
   "source": [
    "int(u[-1].replace('bn:','')[:-1])"
   ]
  },
  {
   "cell_type": "code",
   "execution_count": 91,
   "metadata": {
    "collapsed": true
   },
   "outputs": [
    {
     "name": "stdout",
     "output_type": "stream",
     "text": [
      "[44916, 3341, 21483, 28018, 5095, 21475, 11744, 57341, 102277, 488, 77270, 35370, 1296, 53823, 77386, 59458, 36845, 102258, 17027, 13389, 32600, 51621, 52341, 51032, 49083, 43383, 75762, 19439, 21538, 1187943, 3473, 20, 61135, 16413, 75, 6125, 20452, 61450, 52501, 836, 18875, 61855, 63445, 68991, 47411, 902, 31085, 18111, 30440, 27546, 64855, 41249, 2222, 21676, 66247, 3256513, 33729, 37008, 48242, 46844, 702242, 6835, 6843, 6848, 1172, 64167, 76843, 17163, 11389, 17184, 21159, 3643193, 18590, 75123, 70190, 30922, 21551, 3268, 99422, 17761, 6382, 108069, 18895, 55734, 55052, 1545108, 93049, 87538, 114778, 56195, 80386, 44911, 3310106, 914927, 24373, 45321, 52497, 228224, 83184, 90399, 51508, 65288, 87054, 13077, 82573, 70574, 104196, 104162, 45409, 104434, 21961, 87671, 26512, 86612, 13670, 61133, 61017, 75683, 2593692, 103782, 14522806, 23236, 27529, 4274, 89660, 85499, 83187, 3437242, 3397023, 3140056, 3269906, 31025, 21476, 48868, 101290, 81753, 84554, 75719, 114150, 50828, 98649, 108566, 3372356, 2439331, 52614, 16401, 56196, 60986, 1220982, 35907, 22162, 46251, 54149, 45247, 53303, 3580173, 13828749, 108461, 99441, 82357, 82226, 101603, 777, 82246, 22153, 29406, 65281, 104722, 53801, 27564, 25913, 90161, 735, 3363286, 92360, 102038, 113455, 18876, 46064, 96433, 30436, 980722, 107232, 2651478, 23960, 82868, 82225, 102691, 102099, 97622, 3735282, 54625, 3303891, 51045, 87116, 30844, 2606169, 105685, 113082, 16784, 3129, 14648460]\n"
     ]
    }
   ],
   "source": [
    "def mapping(x):\n",
    "  return int(x.replace('bn:','')[:-1])\n",
    "H=nx.relabel_nodes(G,mapping)\n",
    "print(H.nodes())"
   ]
  },
  {
   "cell_type": "code",
   "execution_count": 86,
   "metadata": {},
   "outputs": [
    {
     "data": {
      "text/plain": [
       "(<networkx.classes.digraph.DiGraph at 0x7fa440d15320>,\n",
       " <networkx.classes.digraph.DiGraph at 0x7fa440d15a90>)"
      ]
     },
     "execution_count": 86,
     "metadata": {},
     "output_type": "execute_result"
    }
   ],
   "source": [
    "G, H"
   ]
  },
  {
   "cell_type": "code",
   "execution_count": 87,
   "metadata": {},
   "outputs": [
    {
     "data": {
      "text/plain": [
       "202"
      ]
     },
     "execution_count": 87,
     "metadata": {},
     "output_type": "execute_result"
    }
   ],
   "source": [
    "H.number_of_nodes()"
   ]
  },
  {
   "cell_type": "code",
   "execution_count": 119,
   "metadata": {},
   "outputs": [],
   "source": [
    "G = nx.convert_node_labels_to_integers(G) #ordering='sorted', default"
   ]
  },
  {
   "cell_type": "code",
   "execution_count": 117,
   "metadata": {},
   "outputs": [],
   "source": [
    "??nx.convert_node_labels_to_integers"
   ]
  },
  {
   "cell_type": "code",
   "execution_count": 121,
   "metadata": {
    "collapsed": true
   },
   "outputs": [
    {
     "data": {
      "text/plain": [
       "EdgeView([(0, 1), (0, 2), (0, 3), (0, 4), (0, 5), (0, 0), (0, 154), (1, 30), (1, 35), (1, 40), (1, 47), (1, 61), (1, 75), (1, 72), (1, 18), (1, 41), (1, 122), (1, 50), (1, 116), (1, 90), (1, 38), (1, 57), (1, 82), (1, 139), (1, 143), (1, 147), (1, 142), (1, 32), (1, 29), (1, 103), (1, 62), (1, 37), (1, 10), (1, 20), (1, 172), (1, 43), (1, 49), (1, 13), (1, 63), (1, 59), (1, 152), (1, 160), (1, 76), (1, 121), (1, 1), (1, 173), (1, 77), (1, 36), (1, 146), (1, 25), (1, 97), (1, 24), (1, 34), (1, 31), (1, 154), (1, 28), (1, 46), (1, 60), (1, 67), (1, 45), (1, 196), (1, 12), (1, 21), (1, 5), (1, 70), (2, 105), (2, 120), (2, 132), (2, 33), (2, 133), (2, 3), (2, 4), (2, 5), (2, 152), (2, 188), (2, 30), (2, 6), (2, 38), (2, 54), (2, 36), (2, 7), (2, 29), (2, 2), (2, 196), (2, 12), (3, 30), (3, 132), (3, 147), (3, 33), (3, 13), (3, 36), (3, 10), (3, 121), (3, 152), (3, 154), (3, 4), (3, 29), (3, 5), (3, 3), (3, 184), (3, 150), (3, 20), (4, 186), (4, 10), (4, 5), (4, 4), (5, 132), (5, 33), (5, 100), (5, 196), (5, 162), (5, 30), (5, 105), (5, 5), (6, 7), (6, 8), (6, 9), (6, 10), (6, 11), (6, 12), (6, 13), (6, 14), (6, 15), (6, 16), (6, 6), (6, 35), (6, 90), (6, 140), (6, 53), (6, 178), (6, 25), (6, 154), (6, 136), (6, 141), (7, 19), (7, 61), (7, 26), (7, 18), (7, 69), (7, 23), (7, 50), (7, 14), (7, 142), (7, 15), (7, 27), (7, 62), (7, 36), (7, 59), (7, 182), (7, 146), (7, 25), (7, 24), (7, 117), (7, 20), (7, 63), (7, 172), (7, 83), (7, 49), (7, 46), (7, 128), (7, 22), (7, 21), (7, 34), (7, 103), (7, 96), (7, 13), (7, 7), (7, 70), (8, 131), (8, 126), (9, 10), (9, 36), (9, 185), (9, 145), (9, 9), (10, 35), (10, 11), (10, 61), (10, 74), (10, 18), (10, 122), (10, 116), (10, 38), (10, 57), (10, 16), (10, 33), (10, 32), (10, 29), (10, 53), (10, 178), (10, 13), (10, 25), (10, 54), (10, 110), (10, 105), (10, 27), (10, 49), (10, 26), (10, 15), (10, 36), (10, 121), (10, 31), (10, 37), (10, 103), (10, 10), (10, 84), (10, 34), (10, 154), (10, 71), (10, 172), (10, 152), (10, 46), (10, 67), (10, 45), (10, 12), (11, 51), (11, 52), (11, 53), (11, 43), (11, 13), (11, 54), (11, 11), (12, 30), (12, 75), (12, 105), (12, 110), (12, 33), (12, 32), (12, 51), (12, 13), (12, 36), (12, 34), (12, 28), (12, 54), (12, 84), (12, 67), (12, 43), (12, 31), (12, 38), (12, 12), (13, 58), (13, 47), (13, 61), (13, 18), (13, 105), (13, 110), (13, 41), (13, 122), (13, 38), (13, 82), (13, 16), (13, 33), (13, 32), (13, 29), (13, 103), (13, 51), (13, 62), (13, 137), (13, 25), (13, 179), (13, 76), (13, 34), (13, 36), (13, 31), (13, 13), (13, 181), (13, 84), (13, 154), (13, 121), (13, 63), (13, 54), (13, 67), (14, 61), (14, 26), (14, 18), (14, 69), (14, 23), (14, 50), (14, 82), (14, 15), (14, 46), (14, 21), (14, 49), (14, 22), (14, 25), (14, 45), (14, 24), (14, 14), (14, 92), (14, 130), (14, 42), (14, 142), (14, 89), (14, 27), (14, 96), (14, 94), (14, 129), (14, 62), (14, 93), (14, 146), (14, 97), (14, 66), (14, 20), (14, 63), (14, 71), (14, 172), (14, 83), (14, 95), (14, 200), (14, 70), (15, 17), (15, 19), (15, 35), (15, 26), (15, 18), (15, 69), (15, 23), (15, 118), (15, 41), (15, 50), (15, 57), (15, 82), (15, 142), (15, 24), (15, 21), (15, 22), (15, 25), (15, 27), (15, 49), (15, 46), (15, 20), (15, 15), (15, 151), (15, 96), (15, 94), (15, 169), (15, 137), (15, 93), (15, 146), (15, 97), (15, 34), (15, 31), (15, 117), (15, 172), (15, 83), (15, 95), (15, 200), (15, 183), (16, 38), (16, 16), (17, 18), (18, 61), (18, 78), (18, 26), (18, 72), (18, 54), (18, 28), (18, 89), (18, 90), (18, 22), (18, 25), (18, 24), (18, 91), (18, 59), (18, 92), (18, 93), (18, 43), (18, 62), (18, 63), (18, 41), (18, 50), (18, 67), (18, 45), (18, 84), (18, 21), (18, 38), (18, 94), (18, 69), (18, 47), (18, 66), (18, 49), (18, 95), (18, 96), (18, 82), (18, 46), (18, 97), (18, 42), (18, 98), (18, 18), (18, 23), (18, 130), (18, 142), (18, 151), (18, 27), (18, 146), (18, 117), (18, 83), (18, 115), (18, 76), (18, 68), (18, 128), (18, 200), (18, 135), (18, 183), (18, 70), (19, 20), (19, 21), (19, 22), (19, 23), (19, 24), (19, 25), (19, 26), (19, 27), (19, 28), (19, 29), (19, 142), (19, 172), (19, 95), (20, 35), (20, 26), (20, 69), (20, 23), (20, 50), (20, 27), (20, 25), (20, 24), (20, 187), (20, 22), (20, 21), (20, 49), (20, 117), (20, 20), (20, 172), (20, 95), (20, 54), (20, 128), (21, 26), (21, 69), (21, 23), (21, 50), (21, 82), (21, 42), (21, 142), (21, 151), (21, 89), (21, 27), (21, 96), (21, 91), (21, 94), (21, 129), (21, 62), (21, 93), (21, 146), (21, 25), (21, 97), (21, 24), (21, 63), (21, 71), (21, 172), (21, 83), (21, 49), (21, 68), (21, 46), (21, 128), (21, 22), (21, 41), (21, 45), (21, 43), (21, 137), (21, 117), (21, 95), (21, 84), (21, 67), (21, 32), (21, 21), (21, 183), (22, 26), (22, 69), (22, 23), (22, 41), (22, 50), (22, 42), (22, 142), (22, 89), (22, 27), (22, 129), (22, 25), (22, 24), (22, 34), (22, 117), (22, 83), (22, 49), (22, 46), (22, 128), (22, 45), (22, 172), (22, 67), (22, 37), (22, 38), (22, 22), (23, 26), (23, 69), (23, 116), (23, 67), (23, 117), (23, 46), (23, 27), (23, 25), (23, 49), (23, 61), (23, 63), (23, 83), (23, 24), (23, 23), (23, 142), (23, 151), (23, 89), (23, 96), (23, 146), (23, 97), (23, 172), (23, 128), (23, 183), (24, 61), (24, 26), (24, 72), (24, 69), (24, 118), (24, 50), (24, 42), (24, 151), (24, 27), (24, 96), (24, 62), (24, 137), (24, 25), (24, 97), (24, 172), (24, 38), (24, 45), (24, 28), (24, 117), (24, 67), (24, 32), (24, 43), (24, 73), (24, 49), (24, 116), (24, 70), (24, 46), (24, 59), (24, 63), (24, 93), (24, 41), (24, 24), (24, 34), (24, 71), (24, 83), (25, 61), (25, 26), (25, 69), (25, 50), (25, 142), (25, 151), (25, 89), (25, 27), (25, 94), (25, 129), (25, 62), (25, 137), (25, 43), (25, 146), (25, 172), (25, 63), (25, 41), (25, 84), (25, 66), (25, 49), (25, 45), (25, 67), (25, 46), (25, 37), (25, 29), (25, 25), (25, 97), (25, 121), (25, 117), (25, 128), (25, 70), (26, 27), (26, 69), (26, 49), (26, 82), (26, 50), (26, 83), (26, 26), (26, 94), (26, 59), (27, 69), (27, 144), (27, 142), (27, 41), (27, 45), (27, 49), (27, 117), (27, 66), (27, 27), (27, 121), (27, 63), (28, 40), (28, 61), (28, 72), (28, 44), (28, 108), (28, 41), (28, 50), (28, 130), (28, 42), (28, 32), (28, 62), (28, 43), (28, 102), (28, 59), (28, 97), (28, 34), (28, 70), (28, 38), (28, 45), (28, 54), (28, 68), (28, 28), (28, 117), (28, 63), (28, 172), (28, 115), (28, 46), (29, 35), (29, 122), (29, 57), (29, 36), (29, 121), (29, 76), (29, 97), (29, 37), (29, 152), (29, 29), (29, 173), (29, 34), (29, 31), (29, 154), (29, 117), (29, 172), (29, 49), (29, 195), (29, 196), (29, 70), (30, 31), (30, 32), (30, 33), (30, 34), (30, 30), (30, 132), (31, 38), (31, 62), (31, 34), (31, 43), (31, 35), (31, 57), (31, 31), (32, 61), (32, 84), (32, 105), (32, 38), (32, 67), (32, 88), (32, 54), (32, 51), (32, 32), (32, 62), (32, 97), (32, 63), (32, 71), (32, 172), (32, 68), (33, 110), (33, 105), (33, 88), (33, 149), (33, 33), (33, 162), (34, 69), (34, 103), (34, 62), (34, 37), (34, 67), (34, 82), (34, 133), (34, 34), (35, 36), (35, 37), (35, 38), (35, 39), (35, 35), (35, 122), (35, 173), (35, 66), (35, 76), (35, 49), (36, 58), (36, 85), (36, 69), (36, 122), (36, 50), (36, 57), (36, 82), (36, 103), (36, 76), (36, 49), (36, 152), (36, 121), (36, 36), (36, 146), (36, 117), (37, 41), (37, 103), (37, 154), (37, 121), (37, 37), (38, 40), (38, 61), (38, 52), (38, 44), (38, 133), (38, 84), (38, 67), (38, 121), (38, 38), (38, 82), (38, 103), (38, 53), (38, 62), (38, 73), (38, 154), (38, 63), (38, 54), (38, 70), (39, 61), (39, 41), (39, 123), (39, 50), (39, 43), (39, 60), (39, 45), (39, 199), (39, 47), (39, 59), (39, 73), (39, 39), (40, 41), (40, 42), (40, 43), (40, 44), (40, 45), (40, 46), (40, 47), (40, 48), (40, 49), (40, 50), (40, 40), (40, 92), (40, 155), (40, 51), (40, 137), (40, 177), (40, 180), (40, 97), (40, 117), (40, 87), (40, 156), (41, 47), (41, 61), (41, 72), (41, 44), (41, 114), (41, 73), (41, 50), (41, 96), (41, 59), (41, 43), (41, 45), (41, 70), (41, 46), (41, 119), (41, 41), (41, 94), (41, 62), (41, 97), (41, 63), (41, 115), (41, 60), (41, 156), (41, 48), (42, 50), (42, 82), (42, 92), (42, 130), (42, 89), (42, 46), (42, 95), (42, 91), (42, 59), (42, 129), (42, 45), (42, 42), (42, 151), (42, 96), (42, 94), (42, 128), (43, 61), (43, 72), (43, 44), (43, 123), (43, 50), (43, 57), (43, 130), (43, 94), (43, 62), (43, 46), (43, 47), (43, 68), (43, 63), (43, 70), (43, 59), (43, 73), (43, 60), (43, 45), (43, 43), (43, 66), (43, 117), (43, 190), (43, 95), (43, 199), (44, 50), (44, 73), (44, 70), (44, 59), (44, 62), (44, 61), (44, 63), (44, 47), (44, 72), (44, 88), (44, 67), (44, 45), (44, 44), (44, 123), (44, 48), (44, 199), (45, 55), (45, 47), (45, 61), (45, 72), (45, 114), (45, 50), (45, 92), (45, 151), (45, 89), (45, 96), (45, 94), (45, 62), (45, 73), (45, 59), (45, 66), (45, 63), (45, 71), (45, 172), (45, 115), (45, 95), (45, 49), (45, 46), (45, 60), (45, 121), (45, 67), (45, 70), (45, 45), (46, 47), (46, 61), (46, 114), (46, 127), (46, 50), (46, 82), (46, 92), (46, 130), (46, 142), (46, 151), (46, 89), (46, 96), (46, 91), (46, 62), (46, 59), (46, 146), (46, 97), (46, 66), (46, 63), (46, 71), (46, 95), (46, 49), (46, 68), (46, 76), (46, 128), (46, 72), (46, 121), (46, 46), (46, 183), (47, 55), (47, 50), (47, 59), (47, 60), (47, 61), (47, 62), (47, 63), (47, 47), (47, 130), (47, 70), (48, 177), (48, 180), (48, 87), (48, 156), (48, 50), (48, 168), (48, 86), (48, 197), (48, 48), (49, 85), (49, 50), (49, 116), (49, 82), (49, 142), (49, 151), (49, 103), (49, 96), (49, 91), (49, 137), (49, 146), (49, 97), (49, 66), (49, 117), (49, 172), (49, 128), (49, 105), (49, 49), (49, 135), (49, 183), (50, 61), (50, 72), (50, 69), (50, 127), (50, 105), (50, 89), (50, 96), (50, 82), (50, 92), (50, 62), (50, 94), (50, 117), (50, 66), (50, 59), (50, 63), (50, 50), (50, 130), (50, 142), (50, 153), (50, 151), (50, 91), (50, 73), (50, 146), (50, 97), (50, 71), (50, 172), (50, 115), (50, 95), (50, 68), (50, 128), (50, 156), (50, 200), (50, 135), (50, 70), (51, 90), (51, 105), (51, 54), (51, 51), (52, 84), (52, 62), (52, 52), (53, 61), (53, 53), (53, 62), (53, 63), (53, 70), (54, 105), (54, 154), (54, 88), (54, 54), (55, 55), (56, 57), (56, 138), (56, 111), (56, 191), (56, 193), (56, 194), (57, 57), (57, 117), (58, 58), (58, 110), (58, 76), (59, 61), (59, 123), (59, 82), (59, 92), (59, 94), (59, 62), (59, 73), (59, 72), (59, 63), (59, 59), (59, 115), (59, 190), (59, 199), (60, 61), (60, 114), (60, 63), (60, 70), (60, 60), (61, 66), (61, 67), (61, 68), (61, 69), (61, 70), (61, 71), (61, 62), (61, 63), (61, 72), (61, 73), (61, 61), (61, 123), (61, 89), (61, 94), (61, 97), (61, 95), (61, 199), (62, 72), (62, 123), (62, 94), (62, 84), (62, 67), (62, 73), (62, 68), (62, 70), (62, 63), (62, 66), (62, 62), (62, 97), (62, 115), (62, 199), (63, 72), (63, 123), (63, 94), (63, 73), (63, 97), (63, 66), (63, 68), (63, 82), (63, 190), (63, 67), (63, 70), (63, 149), (63, 63), (63, 115), (63, 199), (64, 65), (66, 69), (66, 116), (66, 142), (66, 151), (66, 137), (66, 117), (66, 68), (66, 183), (66, 66), (66, 76), (67, 84), (67, 154), (67, 172), (67, 67), (68, 82), (68, 142), (68, 94), (68, 146), (68, 97), (68, 95), (68, 83), (68, 72), (68, 116), (68, 68), (69, 72), (69, 103), (69, 69), (69, 142), (69, 96), (69, 129), (69, 93), (69, 146), (69, 117), (69, 172), (69, 83), (69, 128), (69, 183), (70, 72), (70, 123), (70, 82), (70, 94), (70, 97), (70, 115), (70, 95), (70, 199), (70, 73), (70, 70), (72, 72), (72, 123), (72, 103), (72, 96), (72, 73), (72, 199), (73, 123), (73, 127), (73, 92), (73, 130), (73, 142), (73, 89), (73, 103), (73, 94), (73, 73), (73, 199), (75, 76), (75, 77), (76, 122), (76, 139), (76, 147), (76, 103), (76, 148), (76, 121), (76, 76), (77, 174), (77, 77), (79, 80), (79, 81), (79, 161), (79, 149), (82, 84), (82, 135), (82, 136), (82, 117), (82, 137), (82, 96), (82, 94), (82, 82), (82, 142), (82, 146), (82, 97), (82, 128), (83, 96), (83, 83), (84, 103), (84, 84), (84, 154), (85, 85), (85, 151), (85, 146), (86, 87), (88, 151), (88, 191), (89, 127), (89, 92), (89, 130), (89, 142), (89, 95), (89, 129), (89, 146), (89, 96), (89, 151), (89, 128), (89, 183), (90, 119), (90, 103), (90, 90), (90, 154), (91, 91), (91, 97), (92, 95), (92, 96), (92, 128), (92, 92), (93, 97), (94, 97), (94, 121), (94, 94), (95, 130), (95, 129), (95, 146), (95, 96), (95, 151), (95, 95), (96, 127), (96, 142), (96, 151), (96, 146), (96, 128), (96, 96), (96, 129), (96, 183), (97, 130), (97, 97), (97, 115), (97, 183), (99, 100), (100, 150), (101, 102), (102, 104), (102, 166), (103, 103), (105, 105), (105, 110), (105, 151), (105, 137), (106, 107), (107, 119), (108, 109), (109, 171), (110, 111), (112, 113), (114, 115), (116, 117), (116, 129), (116, 137), (116, 146), (117, 142), (117, 151), (117, 137), (117, 146), (117, 185), (117, 117), (117, 172), (117, 183), (119, 146), (120, 121), (121, 173), (121, 154), (121, 172), (121, 121), (121, 195), (121, 196), (122, 122), (122, 139), (124, 125), (124, 126), (126, 134), (126, 157), (126, 158), (127, 128), (127, 129), (127, 130), (128, 142), (128, 151), (128, 146), (128, 183), (128, 130), (128, 137), (128, 135), (128, 128), (129, 130), (129, 142), (129, 146), (129, 129), (130, 142), (130, 130), (130, 146), (132, 132), (133, 133), (135, 142), (135, 151), (135, 146), (135, 135), (137, 142), (137, 151), (137, 172), (139, 139), (140, 141), (142, 146), (142, 151), (142, 142), (142, 183), (144, 145), (144, 146), (146, 151), (146, 172), (146, 183), (146, 146), (147, 148), (147, 147), (149, 189), (150, 184), (150, 152), (150, 154), (152, 154), (152, 152), (152, 195), (153, 154), (154, 154), (155, 156), (157, 158), (159, 160), (161, 165), (162, 163), (162, 164), (162, 162), (166, 167), (166, 168), (167, 198), (170, 171), (172, 172), (173, 173), (175, 176), (181, 181), (184, 184), (192, 192), (196, 196), (201, 201)])"
      ]
     },
     "execution_count": 121,
     "metadata": {},
     "output_type": "execute_result"
    }
   ],
   "source": [
    "G.edges()"
   ]
  },
  {
   "cell_type": "code",
   "execution_count": 105,
   "metadata": {},
   "outputs": [],
   "source": [
    "g.from_networkx(G)"
   ]
  },
  {
   "cell_type": "code",
   "execution_count": 80,
   "metadata": {},
   "outputs": [],
   "source": [
    "??nx.digraph"
   ]
  },
  {
   "cell_type": "code",
   "execution_count": 129,
   "metadata": {},
   "outputs": [
    {
     "data": {
      "text/plain": [
       "202"
      ]
     },
     "execution_count": 129,
     "metadata": {},
     "output_type": "execute_result"
    }
   ],
   "source": [
    "len(g.nodes())"
   ]
  },
  {
   "cell_type": "code",
   "execution_count": 131,
   "metadata": {},
   "outputs": [
    {
     "name": "stdout",
     "output_type": "stream",
     "text": [
      "/media/backup/segun\r\n"
     ]
    }
   ],
   "source": [
    "!pwd"
   ]
  },
  {
   "cell_type": "code",
   "execution_count": 134,
   "metadata": {},
   "outputs": [],
   "source": [
    "import os\n",
    "path='./patent_gr'\n",
    "files = os.listdir(path)"
   ]
  },
  {
   "cell_type": "code",
   "execution_count": 137,
   "metadata": {},
   "outputs": [
    {
     "data": {
      "text/plain": [
       "2254"
      ]
     },
     "execution_count": 137,
     "metadata": {},
     "output_type": "execute_result"
    }
   ],
   "source": [
    "int(files[0].replace('pg',''))"
   ]
  },
  {
   "cell_type": "code",
   "execution_count": 148,
   "metadata": {},
   "outputs": [],
   "source": [
    "import pandas as pd\n",
    "tr_df = pd.read_csv('./pat/train_set.csv', delimiter=',', header=None)\n"
   ]
  },
  {
   "cell_type": "code",
   "execution_count": 176,
   "metadata": {},
   "outputs": [],
   "source": [
    "lab = tr_df.loc[tr_df[0] == int(files[0].replace('pg',''))][1].values[0]"
   ]
  },
  {
   "cell_type": "code",
   "execution_count": 178,
   "metadata": {},
   "outputs": [
    {
     "data": {
      "text/plain": [
       "0"
      ]
     },
     "execution_count": 178,
     "metadata": {},
     "output_type": "execute_result"
    }
   ],
   "source": [
    "len(lab)"
   ]
  },
  {
   "cell_type": "code",
   "execution_count": 307,
   "metadata": {},
   "outputs": [],
   "source": [
    "from dgl import DGLGraph\n",
    "class GrDataset(object):\n",
    "    \n",
    "    def __init__(self, fromFolder=None):\n",
    "        super(GrDataset, self).__init__()\n",
    "        self.fromFolder = fromFolder\n",
    "        self.graphs = []\n",
    "        self.labels = []\n",
    "        self.num_classes = 0\n",
    "        self.path = fromFolder\n",
    "        self._create()\n",
    "    \n",
    "    def __len__(self):\n",
    "        pass\n",
    "    def __getitem__(self, idx):\n",
    "        return self.graphs[idx], self.labels[idx]\n",
    "    def _create(self):\n",
    "        import os\n",
    "        path = self.fromFolder\n",
    "        files = os.listdir(path)\n",
    "        for f in files:\n",
    "            fh = open(path+'/'+f, 'rb')\n",
    "            G = nx.read_edgelist(fh)\n",
    "            fh.close()\n",
    "#             G = G.to_directed()\n",
    "            G = nx.convert_node_labels_to_integers(G, ordering='sorted')\n",
    "            G = DGLGraph(G)\n",
    "            nodes = G.nodes()\n",
    "            G.add_edges(nodes, nodes)\n",
    "            self.graphs.append(G)\n",
    "            lab = tr_df.loc[tr_df[0] == int(files[0].replace('pg',''))][1].values[0]\n",
    "            self.labels.append(lab)\n",
    "        \n",
    "        u_lab = np.unique(self.labels)\n",
    "        print(u_lab)\n",
    "        self.num_classes = len(u_lab)\n",
    "#         l2idx = {k:v for v, k in enumerate(u_lab)}\n",
    "# #         print(len(l2idx))\n",
    "#         self.labels = [l2idx[l] for l in self.labels]   "
   ]
  },
  {
   "cell_type": "code",
   "execution_count": 308,
   "metadata": {},
   "outputs": [
    {
     "name": "stdout",
     "output_type": "stream",
     "text": [
      "['G']\n"
     ]
    }
   ],
   "source": [
    "dataset = GrDataset('./patent_gr')"
   ]
  },
  {
   "cell_type": "code",
   "execution_count": 309,
   "metadata": {},
   "outputs": [
    {
     "data": {
      "text/plain": [
       "900"
      ]
     },
     "execution_count": 309,
     "metadata": {},
     "output_type": "execute_result"
    }
   ],
   "source": [
    "len(dataset.labels)"
   ]
  },
  {
   "cell_type": "code",
   "execution_count": 291,
   "metadata": {},
   "outputs": [
    {
     "data": {
      "text/plain": [
       "array([0])"
      ]
     },
     "execution_count": 291,
     "metadata": {},
     "output_type": "execute_result"
    }
   ],
   "source": [
    "np.unique(dataset.labels)"
   ]
  },
  {
   "cell_type": "code",
   "execution_count": 310,
   "metadata": {},
   "outputs": [],
   "source": [
    "g, l = dataset[510]"
   ]
  },
  {
   "cell_type": "code",
   "execution_count": 313,
   "metadata": {},
   "outputs": [
    {
     "data": {
      "text/plain": [
       "1387"
      ]
     },
     "execution_count": 313,
     "metadata": {},
     "output_type": "execute_result"
    }
   ],
   "source": [
    "len(g.edges()[0])"
   ]
  },
  {
   "cell_type": "code",
   "execution_count": 312,
   "metadata": {},
   "outputs": [
    {
     "data": {
      "image/png": "[encoded data removed]",
      "text/plain": [
       "<Figure size 432x288 with 1 Axes>"
      ]
     },
     "metadata": {},
     "output_type": "display_data"
    }
   ],
   "source": [
    "import matplotlib.pyplot as plt\n",
    "fig, ax = plt.subplots()\n",
    "nx.draw(g.to_networkx(), ax=ax)\n",
    "ax.set_title('Class: {}'.format(l))\n",
    "# plt.savefig(\"graph.png\", dpi=1000)\n",
    "plt.show()"
   ]
  },
  {
   "cell_type": "code",
   "execution_count": 271,
   "metadata": {},
   "outputs": [],
   "source": [
    "#collate fn\n",
    "def collate(samples):\n",
    "    gs, labs = map(list, zip(*samples))\n",
    "    batch_gr = dgl.batch(gs)\n",
    "    return batch_gr, torch.tensor(labs)"
   ]
  },
  {
   "cell_type": "code",
   "execution_count": 274,
   "metadata": {},
   "outputs": [],
   "source": [
    "#conv. layer\n",
    "import dgl.function as fn\n",
    "import torch.nn as nn\n",
    "import torch\n",
    "\n",
    "msg = fn.copy_src(src='h', out='m')\n",
    "\n",
    "def reduce(nodes):\n",
    "    acc = torch.mean(nodes.mailbox['m'], 1)\n",
    "    return {'h': acc}\n",
    "\n",
    "class NodeApplyModule(nn.Module):\n",
    "    def __init__(self, in_feats, out_feats, activation):\n",
    "        super(NodeApplyModule, self).__init__()\n",
    "        self.linear = nn.linear(in_feats, out_feats)\n",
    "        self.activation = activation\n",
    "        \n",
    "    def forward(self, node):\n",
    "        h = self.linear(node.data['h'])\n",
    "        h = self.activation(h)\n",
    "        return {'h': h}\n",
    "    \n",
    "class GCN(nn.Module):\n",
    "    def __init__(self, in_feats, out_feats, activation):\n",
    "        super(GCN, self).__init__()\n",
    "        self.apply_mod = NodeApplyModule(in_feats, out_feats, activation)\n",
    "        \n",
    "    def forward(self, g, feature):\n",
    "        g.ndata['h'] = feature\n",
    "        g.update_all(msg, reduce)\n",
    "        g.apply_nodes(func=self.apply_mod)\n",
    "        return g.ndata.pop('h')\n",
    "        "
   ]
  },
  {
   "cell_type": "code",
   "execution_count": 275,
   "metadata": {},
   "outputs": [],
   "source": [
    "#classifier\n",
    "import torch.nn.functional as F\n",
    "\n",
    "class classifier(nn.Module):\n",
    "    def __init__(self, in_dim, hidden_dim, n_class):\n",
    "        super(classifier, self).__init__()\n",
    "        self.layers = nn.ModuleList([GCN(in_dim, hidden_dim, F.relu), GCN(hidden_dim, hidden_dim, F.relu)])\n",
    "        self.classify = nn.Linear(hidden_dim, n_class)\n",
    "    \n",
    "    def forward(self, g):\n",
    "        h = g.in_degrees().view(-1,1).float()\n",
    "        for conv in self.layers:\n",
    "            h = conv(g, h)\n",
    "        g.ndata['h'] = h\n",
    "        hg = dgl.mean_nodes(g, 'h')\n",
    "        return self.classify(hg)"
   ]
  },
  {
   "cell_type": "code",
   "execution_count": null,
   "metadata": {},
   "outputs": [],
   "source": [
    "#training loop\n"
   ]
  },
  {
   "cell_type": "code",
   "execution_count": 245,
   "metadata": {},
   "outputs": [],
   "source": [
    "\"\"\"A mini synthetic dataset for graph classification benchmark.\"\"\"\n",
    "import math\n",
    "import networkx as nx\n",
    "import numpy as np\n",
    "\n",
    "from dgl import DGLGraph\n",
    "\n",
    "__all__ = ['MiniGCDataset']\n",
    "\n",
    "\n",
    "class MiniGCDataset(object):\n",
    "    \"\"\"The dataset class.\n",
    "\n",
    "    The datset contains 8 different types of graphs.\n",
    "\n",
    "    * class 0 : cycle graph\n",
    "    * class 1 : star graph\n",
    "    * class 2 : wheel graph\n",
    "    * class 3 : lollipop graph\n",
    "    * class 4 : hypercube graph\n",
    "    * class 5 : grid graph\n",
    "    * class 6 : clique graph\n",
    "    * class 7 : circular ladder graph\n",
    "\n",
    "    .. note::\n",
    "        This dataset class is compatible with pytorch's :class:`Dataset` class.\n",
    "\n",
    "    Parameters\n",
    "    ----------\n",
    "    num_graphs: int\n",
    "        Number of graphs in this dataset.\n",
    "    min_num_v: int\n",
    "        Minimum number of nodes for graphs\n",
    "    max_num_v: int\n",
    "        Maximum number of nodes for graphs\n",
    "    \"\"\"\n",
    "    def __init__(self, num_graphs, min_num_v, max_num_v):\n",
    "        super(MiniGCDataset, self).__init__()\n",
    "        self.num_graphs = num_graphs\n",
    "        self.min_num_v = min_num_v\n",
    "        self.max_num_v = max_num_v\n",
    "        self.graphs = []\n",
    "        self.labels = []\n",
    "        self._generate()\n",
    "\n",
    "    def __len__(self):\n",
    "        \"\"\"Return the number of graphs in the dataset.\"\"\"\n",
    "        return len(self.graphs)\n",
    "\n",
    "    def __getitem__(self, idx):\n",
    "        \"\"\"Get the i^th sample.\n",
    "\n",
    "        Paramters\n",
    "        ---------\n",
    "        idx : int\n",
    "            The sample index.\n",
    "\n",
    "        Returns\n",
    "        -------\n",
    "        (dgl.DGLGraph, int)\n",
    "            The graph and its label.\n",
    "        \"\"\"\n",
    "        return self.graphs[idx], self.labels[idx]\n",
    "\n",
    "\n",
    "    @property\n",
    "    def num_classes(self):\n",
    "        \"\"\"Number of classes.\"\"\"\n",
    "        return 8\n",
    "\n",
    "    def _generate(self):\n",
    "        self._gen_cycle(self.num_graphs // 8)\n",
    "        self._gen_star(self.num_graphs // 8)\n",
    "        self._gen_wheel(self.num_graphs // 8)\n",
    "        self._gen_lollipop(self.num_graphs // 8)\n",
    "        self._gen_hypercube(self.num_graphs // 8)\n",
    "        self._gen_grid(self.num_graphs // 8)\n",
    "        self._gen_clique(self.num_graphs // 8)\n",
    "        self._gen_circular_ladder(self.num_graphs - len(self.graphs))\n",
    "        # preprocess\n",
    "        for i in range(self.num_graphs):\n",
    "            self.graphs[i] = DGLGraph(self.graphs[i])\n",
    "            # add self edges\n",
    "            nodes = self.graphs[i].nodes()\n",
    "            self.graphs[i].add_edges(nodes, nodes)\n",
    "\n",
    "    def _gen_cycle(self, n):\n",
    "        for _ in range(n):\n",
    "            num_v = np.random.randint(self.min_num_v, self.max_num_v)\n",
    "            g = nx.cycle_graph(num_v)\n",
    "            self.graphs.append(g)\n",
    "            self.labels.append(0)\n",
    "\n",
    "    def _gen_star(self, n):\n",
    "        for _ in range(n):\n",
    "            num_v = np.random.randint(self.min_num_v, self.max_num_v)\n",
    "            # nx.star_graph(N) gives a star graph with N+1 nodes\n",
    "            g = nx.star_graph(num_v - 1)\n",
    "            self.graphs.append(g)\n",
    "            self.labels.append(1)\n",
    "\n",
    "    def _gen_wheel(self, n):\n",
    "        for _ in range(n):\n",
    "            num_v = np.random.randint(self.min_num_v, self.max_num_v)\n",
    "            g = nx.wheel_graph(num_v)\n",
    "            self.graphs.append(g)\n",
    "            self.labels.append(2)\n",
    "\n",
    "    def _gen_lollipop(self, n):\n",
    "        for _ in range(n):\n",
    "            num_v = np.random.randint(self.min_num_v, self.max_num_v)\n",
    "            path_len = np.random.randint(2, num_v // 2)\n",
    "            g = nx.lollipop_graph(m=num_v - path_len, n=path_len)\n",
    "            self.graphs.append(g)\n",
    "            self.labels.append(3)\n",
    "\n",
    "    def _gen_hypercube(self, n):\n",
    "        for _ in range(n):\n",
    "            num_v = np.random.randint(self.min_num_v, self.max_num_v)\n",
    "            g = nx.hypercube_graph(int(math.log(num_v, 2)))\n",
    "            g = nx.convert_node_labels_to_integers(g)\n",
    "            self.graphs.append(g)\n",
    "            self.labels.append(4)\n",
    "\n",
    "    def _gen_grid(self, n):\n",
    "        for _ in range(n):\n",
    "            num_v = np.random.randint(self.min_num_v, self.max_num_v)\n",
    "            assert num_v >= 4, 'We require a grid graph to contain at least two ' \\\n",
    "                                   'rows and two columns, thus 4 nodes, got {:d} ' \\\n",
    "                                   'nodes'.format(num_v)\n",
    "            n_rows = np.random.randint(2, num_v // 2)\n",
    "            n_cols = num_v // n_rows\n",
    "            g = nx.grid_graph([n_rows, n_cols])\n",
    "            g = nx.convert_node_labels_to_integers(g)\n",
    "            self.graphs.append(g)\n",
    "            self.labels.append(5)\n",
    "\n",
    "    def _gen_clique(self, n):\n",
    "        for _ in range(n):\n",
    "            num_v = np.random.randint(self.min_num_v, self.max_num_v)\n",
    "            g = nx.complete_graph(num_v)\n",
    "            self.graphs.append(g)\n",
    "            self.labels.append(6)\n",
    "\n",
    "    def _gen_circular_ladder(self, n):\n",
    "        for _ in range(n):\n",
    "            num_v = np.random.randint(self.min_num_v, self.max_num_v)\n",
    "            g = nx.circular_ladder_graph(num_v)\n",
    "            self.graphs.append(g)\n",
    "            self.labels.append(7)"
   ]
  },
  {
   "cell_type": "code",
   "execution_count": 249,
   "metadata": {},
   "outputs": [
    {
     "data": {
      "image/png": "[encoded data removed]",
      "text/plain": [
       "<Figure size 432x288 with 1 Axes>"
      ]
     },
     "metadata": {},
     "output_type": "display_data"
    }
   ],
   "source": [
    "import matplotlib.pyplot as plt\n",
    "import networkx as nx\n",
    "# A dataset with 80 samples, each graph is\n",
    "# of size [10, 20]\n",
    "dataset = MiniGCDataset(80, 10, 20)\n",
    "graph, label = dataset[79]\n",
    "fig, ax = plt.subplots()\n",
    "nx.draw(graph.to_networkx(), ax=ax)\n",
    "ax.set_title('Class: {:d}'.format(label))\n",
    "plt.show()"
   ]
  },
  {
   "cell_type": "code",
   "execution_count": 251,
   "metadata": {},
   "outputs": [
    {
     "data": {
      "text/plain": [
       "<dgl.graph.DGLGraph at 0x7fa40f369dd8>"
      ]
     },
     "execution_count": 251,
     "metadata": {},
     "output_type": "execute_result"
    }
   ],
   "source": [
    "graph"
   ]
  },
  {
   "cell_type": "code",
   "execution_count": null,
   "metadata": {},
   "outputs": [],
   "source": []
  }
 ],
 "metadata": {
  "kernelspec": {
   "display_name": "Python 3",
   "language": "python",
   "name": "python3"
  },
  "language_info": {
   "codemirror_mode": {
    "name": "ipython",
    "version": 3
   },
   "file_extension": ".py",
   "mimetype": "text/x-python",
   "name": "python",
   "nbconvert_exporter": "python",
   "pygments_lexer": "ipython3",
   "version": "3.6.8"
  }
 },
 "nbformat": 4,
 "nbformat_minor": 2
}
